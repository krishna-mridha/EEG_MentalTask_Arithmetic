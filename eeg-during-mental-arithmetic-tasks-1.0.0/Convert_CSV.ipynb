{
 "cells": [
  {
   "cell_type": "code",
   "execution_count": 1,
   "metadata": {},
   "outputs": [],
   "source": [
    "import pyedflib\n",
    "import numpy as np\n",
    "import os\n",
    "import pandas as pd\n",
    "import matplotlib.pyplot as plt\n",
    "from sklearn.metrics import accuracy_score\n",
    "from math import log"
   ]
  },
  {
   "cell_type": "code",
   "execution_count": 3,
   "metadata": {},
   "outputs": [
    {
     "name": "stdout",
     "output_type": "stream",
     "text": [
      "[[ 4.20678407e+00  6.48149481e+00  8.85890129e+00 ... -1.17405005e-03\n",
      "  -1.17405005e-03 -1.17405005e-03]\n",
      " [-2.22386587e-01 -1.67368468e+00 -2.95128739e+00 ...  4.87597467e-04\n",
      "   4.87597467e-04  4.87597467e-04]\n",
      " [-1.04545040e+00 -7.88545890e-01  2.38038895e-02 ...  7.71071336e-04\n",
      "   7.71071336e-04  7.71071336e-04]\n",
      " ...\n",
      " [ 4.36937317e-01 -1.28649687e+00 -2.96965046e+00 ...  5.64163882e-04\n",
      "   5.64163882e-04  5.64163882e-04]\n",
      " [-7.21625834e-02 -9.36938824e-01 -1.71584715e+00 ...  4.94879835e-04\n",
      "   4.94879835e-04  4.94879835e-04]\n",
      " [ 3.72391025e-02  4.12716365e-02  4.73655779e-02 ...  1.33962005e-05\n",
      "   1.33962005e-05  1.33962005e-05]]\n"
     ]
    }
   ],
   "source": [
    "#file_name = os.path.join(pyedflib.util.test_data_path(),'Subject00_1.edf')\n",
    "f = pyedflib.EdfReader('Subject11_2.edf')\n",
    "n = f.signals_in_file\n",
    "signal_labels = f.getSignalLabels()\n",
    "sigbufs = np.zeros((n, f.getNSamples()[0]))\n",
    "for i in np.arange(n):\n",
    "    sigbufs[i, :] = f.readSignal(i)\n",
    "    \n",
    "f.close()\n",
    "print(sigbufs)"
   ]
  },
  {
   "cell_type": "code",
   "execution_count": 20,
   "metadata": {},
   "outputs": [
    {
     "name": "stdout",
     "output_type": "stream",
     "text": [
      "[2545802850.0, 2463648020.0, 3190614824.0, 2351021838.0, 2085233888.0, 2341309542.0, 2014232710.0, 2266074122.0, 2231357684.0, 2232057100.0, 2828150342.0, 1964022162.0, 2183386826.0, 1983165852.0, 2569380922.0, 2244380616.0, 2334397092.0, 1787499336.0, 2011729142.0, 2206382916.0, 3557217396.0]\n"
     ]
    },
    {
     "data": {
      "text/plain": [
       "[52655155386.97551,\n",
       " 50790182087.60512,\n",
       " 67520254300.526436,\n",
       " 48231140904.41971,\n",
       " 42294981620.68728,\n",
       " 48033893268.09805,\n",
       " 40718550664.85814,\n",
       " 46344495846.237595,\n",
       " 45552174234.6512,\n",
       " 45574678622.94675,\n",
       " 59056742377.03763,\n",
       " 39599073431.76589,\n",
       " 44495884619.37223,\n",
       " 40050721186.42551,\n",
       " 53221352212.26637,\n",
       " 45925035455.634384,\n",
       " 47860124189.172195,\n",
       " 35695134813.19046,\n",
       " 40664595948.42134,\n",
       " 45056083013.71325,\n",
       " 76806485327.29231]"
      ]
     },
     "execution_count": 20,
     "metadata": {},
     "output_type": "execute_result"
    },
    {
     "data": {
      "image/png": "[encoded data removed]",
      "text/plain": [
       "<Figure size 432x288 with 1 Axes>"
      ]
     },
     "metadata": {
      "needs_background": "light"
     },
     "output_type": "display_data"
    }
   ],
   "source": [
    "#file_name = os.path.join(pyedflib.util.test_data_path(),'Subject00_1.edf')\n",
    "f = pyedflib.EdfReader('Subject00_1.edf')\n",
    "n = f.signals_in_file\n",
    "signal_labels = f.getSignalLabels()\n",
    "sigbufs = np.zeros((n, f.getNSamples()[0]))\n",
    "for i in np.arange(n):\n",
    "    sigbufs[i, :] = f.readSignal(i)\n",
    "    \n",
    "f.close()\n",
    "\n",
    "entropy = []\n",
    "for i in range(len(sigbufs)):\n",
    "    his = plt.hist(sigbufs[i])\n",
    "    res = sum(list(his[0])) \n",
    "    p = his[0]/res\n",
    "    e = np.log(p)*p\n",
    "    e = sum(list(-e))  \n",
    "    entropy.append(e)\n",
    "   \n",
    "energy = []\n",
    "shan_energy = []\n",
    "for i in range(len(sigbufs)):\n",
    "    his = plt.hist(sigbufs[i])\n",
    "    res = his[0]**2\n",
    "    res1 = res * np.log(res)\n",
    "   # res = res[0]*log(res[0])\n",
    "    #res = list(his[0]*list(his[0]))\n",
    "    res = sum(res)\n",
    "    res1 = sum(res1)\n",
    "    energy.append(res)\n",
    "    shan_energy.append(res1)\n"
   ]
  },
  {
   "cell_type": "code",
   "execution_count": null,
   "metadata": {},
   "outputs": [],
   "source": [
    "for i in range(len(sigbufs)):\n",
    "    plt.hist(sigbufs[i,1:])\n",
    "    plt.show()"
   ]
  },
  {
   "cell_type": "code",
   "execution_count": null,
   "metadata": {},
   "outputs": [],
   "source": [
    "v = plt.hist(sigbufs[0])"
   ]
  },
  {
   "cell_type": "code",
   "execution_count": null,
   "metadata": {},
   "outputs": [],
   "source": [
    "v"
   ]
  },
  {
   "cell_type": "code",
   "execution_count": null,
   "metadata": {},
   "outputs": [],
   "source": [
    "len(v)"
   ]
  },
  {
   "cell_type": "code",
   "execution_count": null,
   "metadata": {},
   "outputs": [],
   "source": [
    "len(v[0])"
   ]
  },
  {
   "cell_type": "code",
   "execution_count": null,
   "metadata": {},
   "outputs": [],
   "source": [
    "for i in range(len(v)):\n",
    "    print(v[i])"
   ]
  },
  {
   "cell_type": "code",
   "execution_count": null,
   "metadata": {},
   "outputs": [],
   "source": [
    "res = sum(list(v[0])) "
   ]
  },
  {
   "cell_type": "code",
   "execution_count": null,
   "metadata": {},
   "outputs": [],
   "source": [
    "res"
   ]
  },
  {
   "cell_type": "code",
   "execution_count": null,
   "metadata": {},
   "outputs": [],
   "source": [
    "p = v[0]/res"
   ]
  },
  {
   "cell_type": "code",
   "execution_count": null,
   "metadata": {},
   "outputs": [],
   "source": [
    "p"
   ]
  },
  {
   "cell_type": "code",
   "execution_count": null,
   "metadata": {},
   "outputs": [],
   "source": [
    "e = v[0]*p"
   ]
  },
  {
   "cell_type": "code",
   "execution_count": null,
   "metadata": {},
   "outputs": [],
   "source": [
    "type(e)"
   ]
  },
  {
   "cell_type": "code",
   "execution_count": null,
   "metadata": {},
   "outputs": [],
   "source": [
    "sp = sum(list(p))"
   ]
  },
  {
   "cell_type": "code",
   "execution_count": null,
   "metadata": {},
   "outputs": [],
   "source": [
    "sp"
   ]
  },
  {
   "cell_type": "code",
   "execution_count": null,
   "metadata": {},
   "outputs": [],
   "source": [
    "e"
   ]
  },
  {
   "cell_type": "code",
   "execution_count": 4,
   "metadata": {},
   "outputs": [
    {
     "data": {
      "image/png": "[encoded data removed]",
      "text/plain": [
       "<Figure size 432x288 with 1 Axes>"
      ]
     },
     "metadata": {
      "needs_background": "light"
     },
     "output_type": "display_data"
    }
   ],
   "source": [
    "entropy = []\n",
    "for i in range(len(sigbufs)):\n",
    "    his = plt.hist(sigbufs[i])\n",
    "    res = sum(list(his[0])) \n",
    "    p = his[0]/res\n",
    "    e = np.log(p)*p\n",
    "    e = sum(list(-e))  \n",
    "    entropy.append(e)\n",
    "   \n",
    "    \n",
    "    "
   ]
  },
  {
   "cell_type": "code",
   "execution_count": 5,
   "metadata": {},
   "outputs": [
    {
     "data": {
      "text/plain": [
       "[1.2384287968888106,\n",
       " 1.4232641724861193,\n",
       " 1.5838855068566564,\n",
       " 1.808697977120407,\n",
       " 1.5062989035280687,\n",
       " 1.6802771379890902,\n",
       " 1.5890092978797032,\n",
       " 1.0252187650410367,\n",
       " 1.5397503895575595,\n",
       " 1.5029682908882989,\n",
       " 1.4204840234270903,\n",
       " 1.4798192171161746,\n",
       " 1.4505911405836613,\n",
       " 1.510955565011787,\n",
       " 1.45185348865826,\n",
       " 1.449568797329155,\n",
       " 1.7308808190751657,\n",
       " 1.6090398682097284,\n",
       " 1.4683143255355702,\n",
       " 1.3952519756530415,\n",
       " 1.0916956439105951]"
      ]
     },
     "execution_count": 5,
     "metadata": {},
     "output_type": "execute_result"
    }
   ],
   "source": [
    "entropy"
   ]
  },
  {
   "cell_type": "code",
   "execution_count": null,
   "metadata": {},
   "outputs": [],
   "source": [
    "plt.hist(entropy)"
   ]
  },
  {
   "cell_type": "code",
   "execution_count": null,
   "metadata": {},
   "outputs": [],
   "source": [
    "energy = []\n",
    "for i in range(len(sigbufs)):\n",
    "    his = plt.hist(sigbufs[i])\n",
    "    res = his[0]*his[0]\n",
    "    #res = list(his[0]*list(his[0]))\n",
    "    res = sum(res)\n",
    "    energy.append(res)\n",
    "print(energy)"
   ]
  },
  {
   "cell_type": "code",
   "execution_count": null,
   "metadata": {},
   "outputs": [],
   "source": []
  },
  {
   "cell_type": "code",
   "execution_count": null,
   "metadata": {},
   "outputs": [],
   "source": [
    "ent_ener = {'Entropy':entropy,'Energy':energy}"
   ]
  },
  {
   "cell_type": "code",
   "execution_count": null,
   "metadata": {},
   "outputs": [],
   "source": [
    "ent_ener = pd.DataFrame(ent_ener)\n",
    "ent_ener"
   ]
  },
  {
   "cell_type": "code",
   "execution_count": null,
   "metadata": {},
   "outputs": [],
   "source": [
    "#file_name = os.path.join(pyedflib.util.test_data_path(),'Subject00_1.edf')\n",
    "f2 = pyedflib.EdfReader('Subject00_2.edf')\n",
    "n2 = f2.signals_in_file\n",
    "signal_labels2 = f2.getSignalLabels()\n",
    "sigbufs2 = np.zeros((n2, f2.getNSamples()[0]))\n",
    "for i in np.arange(n2):\n",
    "    sigbufs2[i, :] = f2.readSignal(i)\n",
    "    \n",
    "f2.close()\n",
    "print(sigbufs2)"
   ]
  },
  {
   "cell_type": "code",
   "execution_count": null,
   "metadata": {},
   "outputs": [],
   "source": [
    "for i in range(len(sigbufs2)):\n",
    "    plt.hist(sigbufs2[i,1:])\n",
    "    plt.show()"
   ]
  },
  {
   "cell_type": "code",
   "execution_count": null,
   "metadata": {},
   "outputs": [],
   "source": [
    "a = [1,2,3,4]\n",
    "b = [1,2,3,4]\n",
    "c = list(a)"
   ]
  },
  {
   "cell_type": "code",
   "execution_count": null,
   "metadata": {},
   "outputs": [],
   "source": [
    "c"
   ]
  },
  {
   "cell_type": "code",
   "execution_count": null,
   "metadata": {},
   "outputs": [],
   "source": [
    "df = pd.read_csv('file02_1.csv')"
   ]
  },
  {
   "cell_type": "code",
   "execution_count": null,
   "metadata": {},
   "outputs": [],
   "source": [
    "df"
   ]
  },
  {
   "cell_type": "code",
   "execution_count": 6,
   "metadata": {},
   "outputs": [],
   "source": [
    "df = pd.read_csv('all_2_csv.csv')"
   ]
  },
  {
   "cell_type": "code",
   "execution_count": 7,
   "metadata": {},
   "outputs": [
    {
     "data": {
      "text/plain": [
       "Unnamed: 0              0\n",
       "Unnamed: 0.1            0\n",
       "Unnamed: 0.1.1          0\n",
       "Unnamed: 0.1.1.1       21\n",
       "Mean                    0\n",
       "Std                     0\n",
       "Entropy                22\n",
       "Energy                 21\n",
       "filename                0\n",
       "Unnamed: 0.1.1.1.1    735\n",
       "Target                  0\n",
       "dtype: int64"
      ]
     },
     "execution_count": 7,
     "metadata": {},
     "output_type": "execute_result"
    }
   ],
   "source": [
    "df.isna().sum()"
   ]
  },
  {
   "cell_type": "code",
   "execution_count": 24,
   "metadata": {},
   "outputs": [],
   "source": [
    "df = pd.read_csv('std_mean10_2.csv')"
   ]
  },
  {
   "cell_type": "code",
   "execution_count": 25,
   "metadata": {},
   "outputs": [
    {
     "data": {
      "text/plain": [
       "Unnamed: 0      0\n",
       "Unnamed: 0.1    0\n",
       "Mean            0\n",
       "Std             0\n",
       "Entropy         0\n",
       "Energy          0\n",
       "dtype: int64"
      ]
     },
     "execution_count": 25,
     "metadata": {},
     "output_type": "execute_result"
    }
   ],
   "source": [
    "df.isna().sum()"
   ]
  },
  {
   "cell_type": "code",
   "execution_count": 1,
   "metadata": {},
   "outputs": [],
   "source": [
    "a = [21 ,18 ,19 ,17 ,17,16 ,18 ,18,26 ,16 ,17,18 ,17 ,24 ,17 ,17 ,17 ,17 ,17 ,22 ,17 ,19 ,20 ,16,17 ,17 ,17 ,19 ,19 ,19 ,17 ,19 ,20 ,17 ,18 ,17]"
   ]
  },
  {
   "cell_type": "code",
   "execution_count": 8,
   "metadata": {},
   "outputs": [],
   "source": [
    "import statistics "
   ]
  },
  {
   "cell_type": "code",
   "execution_count": 9,
   "metadata": {},
   "outputs": [
    {
     "data": {
      "text/plain": [
       "18.25"
      ]
     },
     "execution_count": 9,
     "metadata": {},
     "output_type": "execute_result"
    }
   ],
   "source": [
    "statistics.mean(a)"
   ]
  },
  {
   "cell_type": "code",
   "execution_count": 11,
   "metadata": {},
   "outputs": [
    {
     "data": {
      "text/plain": [
       "657"
      ]
     },
     "execution_count": 11,
     "metadata": {},
     "output_type": "execute_result"
    }
   ],
   "source": [
    "sum(a)"
   ]
  },
  {
   "cell_type": "code",
   "execution_count": 12,
   "metadata": {},
   "outputs": [
    {
     "data": {
      "text/plain": [
       "18.25"
      ]
     },
     "execution_count": 12,
     "metadata": {},
     "output_type": "execute_result"
    }
   ],
   "source": [
    "sum(a)/len(a)"
   ]
  },
  {
   "cell_type": "code",
   "execution_count": 13,
   "metadata": {},
   "outputs": [
    {
     "data": {
      "text/plain": [
       "26"
      ]
     },
     "execution_count": 13,
     "metadata": {},
     "output_type": "execute_result"
    }
   ],
   "source": [
    "max(a)"
   ]
  },
  {
   "cell_type": "code",
   "execution_count": 14,
   "metadata": {},
   "outputs": [
    {
     "data": {
      "text/plain": [
       "16"
      ]
     },
     "execution_count": 14,
     "metadata": {},
     "output_type": "execute_result"
    }
   ],
   "source": [
    "min(a)"
   ]
  },
  {
   "cell_type": "code",
   "execution_count": null,
   "metadata": {},
   "outputs": [],
   "source": []
  }
 ],
 "metadata": {
  "kernelspec": {
   "display_name": "Python 3",
   "language": "python",
   "name": "python3"
  },
  "language_info": {
   "codemirror_mode": {
    "name": "ipython",
    "version": 3
   },
   "file_extension": ".py",
   "mimetype": "text/x-python",
   "name": "python",
   "nbconvert_exporter": "python",
   "pygments_lexer": "ipython3",
   "version": "3.7.6"
  }
 },
 "nbformat": 4,
 "nbformat_minor": 4
}
